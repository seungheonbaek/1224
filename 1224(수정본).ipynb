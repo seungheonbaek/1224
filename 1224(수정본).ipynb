{
  "nbformat": 4,
  "nbformat_minor": 0,
  "metadata": {
    "colab": {
      "name": "1224 (2).ipynb",
      "provenance": []
    },
    "kernelspec": {
      "name": "python3",
      "display_name": "Python 3"
    }
  },
  "cells": [
    {
      "cell_type": "markdown",
      "metadata": {
        "id": "ib8P6Bi43JOK"
      },
      "source": [
        "# Decision Tree Classifier를 코드와 함께 좀더 자세히 살펴보는 시간입니다."
      ]
    },
    {
      "cell_type": "markdown",
      "metadata": {
        "id": "QJn_4yIZ1pnJ"
      },
      "source": [
        "\r\n",
        "**1. 실습에서 사용할 각종 패키지들을 먼저 불러옵니다.**\r\n",
        "\r\n",
        "*   pandas: 테이블 형태의 데이터를 처리하는 패키지\r\n",
        "*   numpy: 행렬을 다루는 패키지\r\n",
        "*   pyplot: 그림 그릴 때 쓰는 패키지\r\n",
        "*   sklearn: 각종 머신러닝 알고리즘을 편리하게 쓸 수 있는 패키지 (사이킷-런)\r\n",
        "\r\n"
      ]
    },
    {
      "cell_type": "code",
      "metadata": {
        "id": "uLVOm-OldNex"
      },
      "source": [
        "import pandas as pd\r\n",
        "import numpy as np\r\n",
        "import matplotlib.pyplot as plt\r\n",
        "\r\n",
        "from sklearn.tree import DecisionTreeClassifier\r\n",
        "from sklearn.tree import plot_tree\r\n",
        "\r\n",
        "from sklearn.model_selection import train_test_split\r\n",
        "from sklearn.model_selection import cross_val_score\r\n",
        "\r\n",
        "from sklearn.metrics import confusion_matrix\r\n",
        "from sklearn.metrics import plot_confusion_matrix"
      ],
      "execution_count": null,
      "outputs": []
    },
    {
      "cell_type": "markdown",
      "metadata": {
        "id": "rfriQvOc2P-F"
      },
      "source": [
        "**2. 데이터를 읽어들입니다.**\r\n",
        "\r\n",
        "   * 데이터 다운로드 및 설명 링크:  https://archive.ics.uci.edu/ml/datasets/heart+disease"
      ]
    },
    {
      "cell_type": "code",
      "metadata": {
        "id": "cWAgfkESdpK9"
      },
      "source": [
        "df = pd.read_csv('processed.cleveland.data', header=None)    # header = None : 데이터의 변수 이름을 텍스트로 나타내는 header 부분이 따로 없는 상태를 그대로 읽어들입니다."
      ],
      "execution_count": null,
      "outputs": []
    },
    {
      "cell_type": "markdown",
      "metadata": {
        "id": "wzaXCxjy2jk0"
      },
      "source": [
        "**3. 읽어들인 데이터를 확인해봅니다.**"
      ]
    },
    {
      "cell_type": "code",
      "metadata": {
        "colab": {
          "base_uri": "https://localhost:8080/",
          "height": 195
        },
        "id": "KW48NKFbd-05",
        "outputId": "db530354-e8f7-4e8a-dac8-cf8c1dbc79ab"
      },
      "source": [
        "df.head()     # 테이블의 가장 위 5개(default 값) 행을 봅니다."
      ],
      "execution_count": null,
      "outputs": [
        {
          "output_type": "execute_result",
          "data": {
            "text/html": [
              "<div>\n",
              "<style scoped>\n",
              "    .dataframe tbody tr th:only-of-type {\n",
              "        vertical-align: middle;\n",
              "    }\n",
              "\n",
              "    .dataframe tbody tr th {\n",
              "        vertical-align: top;\n",
              "    }\n",
              "\n",
              "    .dataframe thead th {\n",
              "        text-align: right;\n",
              "    }\n",
              "</style>\n",
              "<table border=\"1\" class=\"dataframe\">\n",
              "  <thead>\n",
              "    <tr style=\"text-align: right;\">\n",
              "      <th></th>\n",
              "      <th>0</th>\n",
              "      <th>1</th>\n",
              "      <th>2</th>\n",
              "      <th>3</th>\n",
              "      <th>4</th>\n",
              "      <th>5</th>\n",
              "      <th>6</th>\n",
              "      <th>7</th>\n",
              "      <th>8</th>\n",
              "      <th>9</th>\n",
              "      <th>10</th>\n",
              "      <th>11</th>\n",
              "      <th>12</th>\n",
              "      <th>13</th>\n",
              "    </tr>\n",
              "  </thead>\n",
              "  <tbody>\n",
              "    <tr>\n",
              "      <th>0</th>\n",
              "      <td>63.0</td>\n",
              "      <td>1.0</td>\n",
              "      <td>1.0</td>\n",
              "      <td>145.0</td>\n",
              "      <td>233.0</td>\n",
              "      <td>1.0</td>\n",
              "      <td>2.0</td>\n",
              "      <td>150.0</td>\n",
              "      <td>0.0</td>\n",
              "      <td>2.3</td>\n",
              "      <td>3.0</td>\n",
              "      <td>0.0</td>\n",
              "      <td>6.0</td>\n",
              "      <td>0</td>\n",
              "    </tr>\n",
              "    <tr>\n",
              "      <th>1</th>\n",
              "      <td>67.0</td>\n",
              "      <td>1.0</td>\n",
              "      <td>4.0</td>\n",
              "      <td>160.0</td>\n",
              "      <td>286.0</td>\n",
              "      <td>0.0</td>\n",
              "      <td>2.0</td>\n",
              "      <td>108.0</td>\n",
              "      <td>1.0</td>\n",
              "      <td>1.5</td>\n",
              "      <td>2.0</td>\n",
              "      <td>3.0</td>\n",
              "      <td>3.0</td>\n",
              "      <td>2</td>\n",
              "    </tr>\n",
              "    <tr>\n",
              "      <th>2</th>\n",
              "      <td>67.0</td>\n",
              "      <td>1.0</td>\n",
              "      <td>4.0</td>\n",
              "      <td>120.0</td>\n",
              "      <td>229.0</td>\n",
              "      <td>0.0</td>\n",
              "      <td>2.0</td>\n",
              "      <td>129.0</td>\n",
              "      <td>1.0</td>\n",
              "      <td>2.6</td>\n",
              "      <td>2.0</td>\n",
              "      <td>2.0</td>\n",
              "      <td>7.0</td>\n",
              "      <td>1</td>\n",
              "    </tr>\n",
              "    <tr>\n",
              "      <th>3</th>\n",
              "      <td>37.0</td>\n",
              "      <td>1.0</td>\n",
              "      <td>3.0</td>\n",
              "      <td>130.0</td>\n",
              "      <td>250.0</td>\n",
              "      <td>0.0</td>\n",
              "      <td>0.0</td>\n",
              "      <td>187.0</td>\n",
              "      <td>0.0</td>\n",
              "      <td>3.5</td>\n",
              "      <td>3.0</td>\n",
              "      <td>0.0</td>\n",
              "      <td>3.0</td>\n",
              "      <td>0</td>\n",
              "    </tr>\n",
              "    <tr>\n",
              "      <th>4</th>\n",
              "      <td>41.0</td>\n",
              "      <td>0.0</td>\n",
              "      <td>2.0</td>\n",
              "      <td>130.0</td>\n",
              "      <td>204.0</td>\n",
              "      <td>0.0</td>\n",
              "      <td>2.0</td>\n",
              "      <td>172.0</td>\n",
              "      <td>0.0</td>\n",
              "      <td>1.4</td>\n",
              "      <td>1.0</td>\n",
              "      <td>0.0</td>\n",
              "      <td>3.0</td>\n",
              "      <td>0</td>\n",
              "    </tr>\n",
              "  </tbody>\n",
              "</table>\n",
              "</div>"
            ],
            "text/plain": [
              "     0    1    2      3      4    5    6      7    8    9    10   11   12  13\n",
              "0  63.0  1.0  1.0  145.0  233.0  1.0  2.0  150.0  0.0  2.3  3.0  0.0  6.0   0\n",
              "1  67.0  1.0  4.0  160.0  286.0  0.0  2.0  108.0  1.0  1.5  2.0  3.0  3.0   2\n",
              "2  67.0  1.0  4.0  120.0  229.0  0.0  2.0  129.0  1.0  2.6  2.0  2.0  7.0   1\n",
              "3  37.0  1.0  3.0  130.0  250.0  0.0  0.0  187.0  0.0  3.5  3.0  0.0  3.0   0\n",
              "4  41.0  0.0  2.0  130.0  204.0  0.0  2.0  172.0  0.0  1.4  1.0  0.0  3.0   0"
            ]
          },
          "metadata": {
            "tags": []
          },
          "execution_count": 4
        }
      ]
    },
    {
      "cell_type": "markdown",
      "metadata": {
        "id": "OS7tXB943m8p"
      },
      "source": [
        "**4. 데이터 설명 링크를 참조하며 각 칼럼에 이름을 붙여줍니다.**\r\n",
        "\r\n",
        "   * 데이터 설명 링크 (재방송):  https://archive.ics.uci.edu/ml/datasets/heart+disease"
      ]
    },
    {
      "cell_type": "code",
      "metadata": {
        "colab": {
          "base_uri": "https://localhost:8080/",
          "height": 195
        },
        "id": "hsTRN93ZeAJ8",
        "outputId": "82463f89-e165-4ac3-abec-b57686a97875"
      },
      "source": [
        "df.columns = ['age',\r\n",
        "              'sex',\r\n",
        "              'cp',\r\n",
        "              'restbp',\r\n",
        "              'chol',\r\n",
        "              'fbs',\r\n",
        "              'restecg',\r\n",
        "              'thalach',\r\n",
        "              'exang',\r\n",
        "              'oldpeak',\r\n",
        "              'slope',\r\n",
        "              'ca',\r\n",
        "              'thal',\r\n",
        "              'hd']\r\n",
        "\r\n",
        "df.head()"
      ],
      "execution_count": null,
      "outputs": [
        {
          "output_type": "execute_result",
          "data": {
            "text/html": [
              "<div>\n",
              "<style scoped>\n",
              "    .dataframe tbody tr th:only-of-type {\n",
              "        vertical-align: middle;\n",
              "    }\n",
              "\n",
              "    .dataframe tbody tr th {\n",
              "        vertical-align: top;\n",
              "    }\n",
              "\n",
              "    .dataframe thead th {\n",
              "        text-align: right;\n",
              "    }\n",
              "</style>\n",
              "<table border=\"1\" class=\"dataframe\">\n",
              "  <thead>\n",
              "    <tr style=\"text-align: right;\">\n",
              "      <th></th>\n",
              "      <th>age</th>\n",
              "      <th>sex</th>\n",
              "      <th>cp</th>\n",
              "      <th>restbp</th>\n",
              "      <th>chol</th>\n",
              "      <th>fbs</th>\n",
              "      <th>restecg</th>\n",
              "      <th>thalach</th>\n",
              "      <th>exang</th>\n",
              "      <th>oldpeak</th>\n",
              "      <th>slope</th>\n",
              "      <th>ca</th>\n",
              "      <th>thal</th>\n",
              "      <th>hd</th>\n",
              "    </tr>\n",
              "  </thead>\n",
              "  <tbody>\n",
              "    <tr>\n",
              "      <th>0</th>\n",
              "      <td>63.0</td>\n",
              "      <td>1.0</td>\n",
              "      <td>1.0</td>\n",
              "      <td>145.0</td>\n",
              "      <td>233.0</td>\n",
              "      <td>1.0</td>\n",
              "      <td>2.0</td>\n",
              "      <td>150.0</td>\n",
              "      <td>0.0</td>\n",
              "      <td>2.3</td>\n",
              "      <td>3.0</td>\n",
              "      <td>0.0</td>\n",
              "      <td>6.0</td>\n",
              "      <td>0</td>\n",
              "    </tr>\n",
              "    <tr>\n",
              "      <th>1</th>\n",
              "      <td>67.0</td>\n",
              "      <td>1.0</td>\n",
              "      <td>4.0</td>\n",
              "      <td>160.0</td>\n",
              "      <td>286.0</td>\n",
              "      <td>0.0</td>\n",
              "      <td>2.0</td>\n",
              "      <td>108.0</td>\n",
              "      <td>1.0</td>\n",
              "      <td>1.5</td>\n",
              "      <td>2.0</td>\n",
              "      <td>3.0</td>\n",
              "      <td>3.0</td>\n",
              "      <td>2</td>\n",
              "    </tr>\n",
              "    <tr>\n",
              "      <th>2</th>\n",
              "      <td>67.0</td>\n",
              "      <td>1.0</td>\n",
              "      <td>4.0</td>\n",
              "      <td>120.0</td>\n",
              "      <td>229.0</td>\n",
              "      <td>0.0</td>\n",
              "      <td>2.0</td>\n",
              "      <td>129.0</td>\n",
              "      <td>1.0</td>\n",
              "      <td>2.6</td>\n",
              "      <td>2.0</td>\n",
              "      <td>2.0</td>\n",
              "      <td>7.0</td>\n",
              "      <td>1</td>\n",
              "    </tr>\n",
              "    <tr>\n",
              "      <th>3</th>\n",
              "      <td>37.0</td>\n",
              "      <td>1.0</td>\n",
              "      <td>3.0</td>\n",
              "      <td>130.0</td>\n",
              "      <td>250.0</td>\n",
              "      <td>0.0</td>\n",
              "      <td>0.0</td>\n",
              "      <td>187.0</td>\n",
              "      <td>0.0</td>\n",
              "      <td>3.5</td>\n",
              "      <td>3.0</td>\n",
              "      <td>0.0</td>\n",
              "      <td>3.0</td>\n",
              "      <td>0</td>\n",
              "    </tr>\n",
              "    <tr>\n",
              "      <th>4</th>\n",
              "      <td>41.0</td>\n",
              "      <td>0.0</td>\n",
              "      <td>2.0</td>\n",
              "      <td>130.0</td>\n",
              "      <td>204.0</td>\n",
              "      <td>0.0</td>\n",
              "      <td>2.0</td>\n",
              "      <td>172.0</td>\n",
              "      <td>0.0</td>\n",
              "      <td>1.4</td>\n",
              "      <td>1.0</td>\n",
              "      <td>0.0</td>\n",
              "      <td>3.0</td>\n",
              "      <td>0</td>\n",
              "    </tr>\n",
              "  </tbody>\n",
              "</table>\n",
              "</div>"
            ],
            "text/plain": [
              "    age  sex   cp  restbp   chol  fbs  ...  exang  oldpeak  slope   ca  thal hd\n",
              "0  63.0  1.0  1.0   145.0  233.0  1.0  ...    0.0      2.3    3.0  0.0   6.0  0\n",
              "1  67.0  1.0  4.0   160.0  286.0  0.0  ...    1.0      1.5    2.0  3.0   3.0  2\n",
              "2  67.0  1.0  4.0   120.0  229.0  0.0  ...    1.0      2.6    2.0  2.0   7.0  1\n",
              "3  37.0  1.0  3.0   130.0  250.0  0.0  ...    0.0      3.5    3.0  0.0   3.0  0\n",
              "4  41.0  0.0  2.0   130.0  204.0  0.0  ...    0.0      1.4    1.0  0.0   3.0  0\n",
              "\n",
              "[5 rows x 14 columns]"
            ]
          },
          "metadata": {
            "tags": []
          },
          "execution_count": 5
        }
      ]
    },
    {
      "cell_type": "markdown",
      "metadata": {
        "id": "70zML9o735Tr"
      },
      "source": [
        "**5. 데이터 테이블이 일단 모양새를 갖춘 듯한데, 누락된 값(결측치)이 있는지 살펴봐야 하기 때문에, 아래와 같은 작업으로 각각의 값이 어떠한 형태로 있는지 알아봅니다.**"
      ]
    },
    {
      "cell_type": "code",
      "metadata": {
        "colab": {
          "base_uri": "https://localhost:8080/"
        },
        "id": "NtWTnFiKecmc",
        "outputId": "509aab40-56fd-427b-8aba-cccf556fa92b"
      },
      "source": [
        "df.dtypes"
      ],
      "execution_count": null,
      "outputs": [
        {
          "output_type": "execute_result",
          "data": {
            "text/plain": [
              "age        float64\n",
              "sex        float64\n",
              "cp         float64\n",
              "restbp     float64\n",
              "chol       float64\n",
              "fbs        float64\n",
              "restecg    float64\n",
              "thalach    float64\n",
              "exang      float64\n",
              "oldpeak    float64\n",
              "slope      float64\n",
              "ca          object\n",
              "thal        object\n",
              "hd           int64\n",
              "dtype: object"
            ]
          },
          "metadata": {
            "tags": []
          },
          "execution_count": 6
        }
      ]
    },
    {
      "cell_type": "markdown",
      "metadata": {
        "id": "vnZaCOzr4IFJ"
      },
      "source": [
        "   * 다른 칼럼들은 float64(소수)인데 'ca' 칼럼과 'thal' 칼럼만 object라는 점에서, 뭔가 이 두 칼럼에는 숫자가 아닌 문자라든가 다른 형태의 자료가 섞여있다는 점을 유추할 수 있습니다."
      ]
    },
    {
      "cell_type": "markdown",
      "metadata": {
        "id": "CmIdg2oT4bqP"
      },
      "source": [
        "**6. 이럴 때에는 아래와 같이 한 번 해당 칼럼의 고유한 값, 즉 값의 종류에는 어떤 것들이 있는지 살펴보는 것이 방법입니다.**"
      ]
    },
    {
      "cell_type": "code",
      "metadata": {
        "colab": {
          "base_uri": "https://localhost:8080/"
        },
        "id": "jDTh1cnbefmE",
        "outputId": "90a6caee-bb69-46cd-deac-a262dd6f69dd"
      },
      "source": [
        "df['ca'].unique()"
      ],
      "execution_count": null,
      "outputs": [
        {
          "output_type": "execute_result",
          "data": {
            "text/plain": [
              "array(['0.0', '3.0', '2.0', '1.0', '?'], dtype=object)"
            ]
          },
          "metadata": {
            "tags": []
          },
          "execution_count": 7
        }
      ]
    },
    {
      "cell_type": "markdown",
      "metadata": {
        "id": "FE50phq04myQ"
      },
      "source": [
        "\r\n",
        "\r\n",
        "*   0, 1, 2, 3, 그리고 '?'라는 값이 있다는 점을 확인할 수 있습니다. 바로 이 '?' 기호가 있는 것이 문제였던 것입니다.\r\n",
        "*   아래의 'thal' 칼럼도 마찬가지입니다.\r\n",
        "\r\n"
      ]
    },
    {
      "cell_type": "code",
      "metadata": {
        "colab": {
          "base_uri": "https://localhost:8080/"
        },
        "id": "nOX_-a8jej-l",
        "outputId": "b4a1fdf4-d44e-4754-99f2-760e3ccb9edf"
      },
      "source": [
        "df['thal'].unique()"
      ],
      "execution_count": null,
      "outputs": [
        {
          "output_type": "execute_result",
          "data": {
            "text/plain": [
              "array(['6.0', '3.0', '7.0', '?'], dtype=object)"
            ]
          },
          "metadata": {
            "tags": []
          },
          "execution_count": 8
        }
      ]
    },
    {
      "cell_type": "markdown",
      "metadata": {
        "id": "PYsvmE_55HXD"
      },
      "source": [
        "**7. 이처럼 값을 알 수 없는 결측치가 존재할 때, 접근 방법은 두 가지입니다.**\r\n",
        "\r\n",
        "1.   해당 결측치와 관련된 자료를 모두 삭제하기\r\n",
        "2.   결측치의 값이 무엇이었을지 예측해서 채워넣기\r\n",
        "\r\n",
        "**어느 방향으로 접근해야 할지 알아보기 위해서 우선 사이즈가 얼마나 큰지 파악해봅니다.**"
      ]
    },
    {
      "cell_type": "code",
      "metadata": {
        "colab": {
          "base_uri": "https://localhost:8080/"
        },
        "id": "hYIcq4asenQa",
        "outputId": "14fee239-69c7-48de-f837-c78e8f183d70"
      },
      "source": [
        "len(df.loc[(df['ca']=='?')  |  (df['thal']=='?')])"
      ],
      "execution_count": null,
      "outputs": [
        {
          "output_type": "execute_result",
          "data": {
            "text/plain": [
              "6"
            ]
          },
          "metadata": {
            "tags": []
          },
          "execution_count": 9
        }
      ]
    },
    {
      "cell_type": "markdown",
      "metadata": {
        "id": "jSV3oAtp5juj"
      },
      "source": [
        "*   length 라는 파이썬 내장함수를 써서 'ca' 칼럼에 ? 기호가 있거나 'thal' 칼럼에 ? 기호가 있는 모든 데이터의 개수를 알아보니, 단 6개만 존재한다는 점을 확인할 수 있습니다.\r\n"
      ]
    },
    {
      "cell_type": "markdown",
      "metadata": {
        "id": "w6Nunhip5030"
      },
      "source": [
        "**8. 결측치의 개수가 적다는 사실에 안심하고 아래와 같이 실제 해당 데이터를 '모두'(6개뿐이므로) 열람해봅니다.**"
      ]
    },
    {
      "cell_type": "code",
      "metadata": {
        "colab": {
          "base_uri": "https://localhost:8080/",
          "height": 225
        },
        "id": "ZSEsm83ge7Pb",
        "outputId": "c96c7a4b-c85b-4e99-e0db-39eaf6e40577"
      },
      "source": [
        "df.loc[(df['ca']=='?')  |  (df['thal']=='?')]"
      ],
      "execution_count": null,
      "outputs": [
        {
          "output_type": "execute_result",
          "data": {
            "text/html": [
              "<div>\n",
              "<style scoped>\n",
              "    .dataframe tbody tr th:only-of-type {\n",
              "        vertical-align: middle;\n",
              "    }\n",
              "\n",
              "    .dataframe tbody tr th {\n",
              "        vertical-align: top;\n",
              "    }\n",
              "\n",
              "    .dataframe thead th {\n",
              "        text-align: right;\n",
              "    }\n",
              "</style>\n",
              "<table border=\"1\" class=\"dataframe\">\n",
              "  <thead>\n",
              "    <tr style=\"text-align: right;\">\n",
              "      <th></th>\n",
              "      <th>age</th>\n",
              "      <th>sex</th>\n",
              "      <th>cp</th>\n",
              "      <th>restbp</th>\n",
              "      <th>chol</th>\n",
              "      <th>fbs</th>\n",
              "      <th>restecg</th>\n",
              "      <th>thalach</th>\n",
              "      <th>exang</th>\n",
              "      <th>oldpeak</th>\n",
              "      <th>slope</th>\n",
              "      <th>ca</th>\n",
              "      <th>thal</th>\n",
              "      <th>hd</th>\n",
              "    </tr>\n",
              "  </thead>\n",
              "  <tbody>\n",
              "    <tr>\n",
              "      <th>87</th>\n",
              "      <td>53.0</td>\n",
              "      <td>0.0</td>\n",
              "      <td>3.0</td>\n",
              "      <td>128.0</td>\n",
              "      <td>216.0</td>\n",
              "      <td>0.0</td>\n",
              "      <td>2.0</td>\n",
              "      <td>115.0</td>\n",
              "      <td>0.0</td>\n",
              "      <td>0.0</td>\n",
              "      <td>1.0</td>\n",
              "      <td>0.0</td>\n",
              "      <td>?</td>\n",
              "      <td>0</td>\n",
              "    </tr>\n",
              "    <tr>\n",
              "      <th>166</th>\n",
              "      <td>52.0</td>\n",
              "      <td>1.0</td>\n",
              "      <td>3.0</td>\n",
              "      <td>138.0</td>\n",
              "      <td>223.0</td>\n",
              "      <td>0.0</td>\n",
              "      <td>0.0</td>\n",
              "      <td>169.0</td>\n",
              "      <td>0.0</td>\n",
              "      <td>0.0</td>\n",
              "      <td>1.0</td>\n",
              "      <td>?</td>\n",
              "      <td>3.0</td>\n",
              "      <td>0</td>\n",
              "    </tr>\n",
              "    <tr>\n",
              "      <th>192</th>\n",
              "      <td>43.0</td>\n",
              "      <td>1.0</td>\n",
              "      <td>4.0</td>\n",
              "      <td>132.0</td>\n",
              "      <td>247.0</td>\n",
              "      <td>1.0</td>\n",
              "      <td>2.0</td>\n",
              "      <td>143.0</td>\n",
              "      <td>1.0</td>\n",
              "      <td>0.1</td>\n",
              "      <td>2.0</td>\n",
              "      <td>?</td>\n",
              "      <td>7.0</td>\n",
              "      <td>1</td>\n",
              "    </tr>\n",
              "    <tr>\n",
              "      <th>266</th>\n",
              "      <td>52.0</td>\n",
              "      <td>1.0</td>\n",
              "      <td>4.0</td>\n",
              "      <td>128.0</td>\n",
              "      <td>204.0</td>\n",
              "      <td>1.0</td>\n",
              "      <td>0.0</td>\n",
              "      <td>156.0</td>\n",
              "      <td>1.0</td>\n",
              "      <td>1.0</td>\n",
              "      <td>2.0</td>\n",
              "      <td>0.0</td>\n",
              "      <td>?</td>\n",
              "      <td>2</td>\n",
              "    </tr>\n",
              "    <tr>\n",
              "      <th>287</th>\n",
              "      <td>58.0</td>\n",
              "      <td>1.0</td>\n",
              "      <td>2.0</td>\n",
              "      <td>125.0</td>\n",
              "      <td>220.0</td>\n",
              "      <td>0.0</td>\n",
              "      <td>0.0</td>\n",
              "      <td>144.0</td>\n",
              "      <td>0.0</td>\n",
              "      <td>0.4</td>\n",
              "      <td>2.0</td>\n",
              "      <td>?</td>\n",
              "      <td>7.0</td>\n",
              "      <td>0</td>\n",
              "    </tr>\n",
              "    <tr>\n",
              "      <th>302</th>\n",
              "      <td>38.0</td>\n",
              "      <td>1.0</td>\n",
              "      <td>3.0</td>\n",
              "      <td>138.0</td>\n",
              "      <td>175.0</td>\n",
              "      <td>0.0</td>\n",
              "      <td>0.0</td>\n",
              "      <td>173.0</td>\n",
              "      <td>0.0</td>\n",
              "      <td>0.0</td>\n",
              "      <td>1.0</td>\n",
              "      <td>?</td>\n",
              "      <td>3.0</td>\n",
              "      <td>0</td>\n",
              "    </tr>\n",
              "  </tbody>\n",
              "</table>\n",
              "</div>"
            ],
            "text/plain": [
              "      age  sex   cp  restbp   chol  fbs  ...  exang  oldpeak  slope   ca  thal hd\n",
              "87   53.0  0.0  3.0   128.0  216.0  0.0  ...    0.0      0.0    1.0  0.0     ?  0\n",
              "166  52.0  1.0  3.0   138.0  223.0  0.0  ...    0.0      0.0    1.0    ?   3.0  0\n",
              "192  43.0  1.0  4.0   132.0  247.0  1.0  ...    1.0      0.1    2.0    ?   7.0  1\n",
              "266  52.0  1.0  4.0   128.0  204.0  1.0  ...    1.0      1.0    2.0  0.0     ?  2\n",
              "287  58.0  1.0  2.0   125.0  220.0  0.0  ...    0.0      0.4    2.0    ?   7.0  0\n",
              "302  38.0  1.0  3.0   138.0  175.0  0.0  ...    0.0      0.0    1.0    ?   3.0  0\n",
              "\n",
              "[6 rows x 14 columns]"
            ]
          },
          "metadata": {
            "tags": []
          },
          "execution_count": 10
        }
      ]
    },
    {
      "cell_type": "markdown",
      "metadata": {
        "id": "wyWC6GXL6CeK"
      },
      "source": [
        "**9. 그런데 혹시나 전체 데이터의 개수가 얼마나 되는지도 알아볼 필요가 있으므로 아래와 같이 전체 데이터의 크기를 알아봅니다.**"
      ]
    },
    {
      "cell_type": "code",
      "metadata": {
        "colab": {
          "base_uri": "https://localhost:8080/"
        },
        "id": "h-7PXBP0e_vB",
        "outputId": "d1693d13-a86b-49a2-c194-d50e82303531"
      },
      "source": [
        "len(df)"
      ],
      "execution_count": null,
      "outputs": [
        {
          "output_type": "execute_result",
          "data": {
            "text/plain": [
              "303"
            ]
          },
          "metadata": {
            "tags": []
          },
          "execution_count": 11
        }
      ]
    },
    {
      "cell_type": "code",
      "metadata": {
        "colab": {
          "base_uri": "https://localhost:8080/"
        },
        "id": "Tf0W7PXAe_08",
        "outputId": "0bf41f45-5e0c-4508-c5d6-2b5ab5bda726"
      },
      "source": [
        "(6/303)*100"
      ],
      "execution_count": null,
      "outputs": [
        {
          "output_type": "execute_result",
          "data": {
            "text/plain": [
              "1.9801980198019802"
            ]
          },
          "metadata": {
            "tags": []
          },
          "execution_count": 12
        }
      ]
    },
    {
      "cell_type": "markdown",
      "metadata": {
        "id": "i1r96gxL6P2X"
      },
      "source": [
        "\r\n",
        "\r\n",
        "*   무려 303개의 데이터가 존재하는데, 결측치가 존재하는 데이터는 단 6개이므로, 결측치가 있는 데이터(전체의 약 2%에 불과)는 제거해야겠다고 마음을 굳힐 수 있습니다.\r\n",
        "\r\n"
      ]
    },
    {
      "cell_type": "markdown",
      "metadata": {
        "id": "5kr1s0M56dNe"
      },
      "source": [
        "**10. 결측치가 없는 데이터들로 다시 데이터를 잡습니다.**"
      ]
    },
    {
      "cell_type": "code",
      "metadata": {
        "id": "a_Vw5tq9e_3F"
      },
      "source": [
        "df_no_missing = df.loc[(df['ca']!='?')  &  (df['thal']!='?')]"
      ],
      "execution_count": null,
      "outputs": []
    },
    {
      "cell_type": "code",
      "metadata": {
        "colab": {
          "base_uri": "https://localhost:8080/"
        },
        "id": "tmQDbFFRe_5K",
        "outputId": "69c351ae-6693-44f0-9fb2-2dba6fc1ee16"
      },
      "source": [
        "len(df_no_missing)"
      ],
      "execution_count": null,
      "outputs": [
        {
          "output_type": "execute_result",
          "data": {
            "text/plain": [
              "297"
            ]
          },
          "metadata": {
            "tags": []
          },
          "execution_count": 14
        }
      ]
    },
    {
      "cell_type": "markdown",
      "metadata": {
        "id": "1gYN2gBQ6kQW"
      },
      "source": [
        "\r\n",
        "\r\n",
        "*   6개를 제거하고 나니 303-6 = 297개의 데이터가 남았음을 확인하였고,\r\n",
        "*   아래와 같이 정말 'ca' 칼럼과 'thal' 칼럼의 고유한 값들 중에서 이제는 ? 기호가 사라졌는지 재확인해볼 수 있습니다.\r\n",
        "\r\n"
      ]
    },
    {
      "cell_type": "code",
      "metadata": {
        "colab": {
          "base_uri": "https://localhost:8080/"
        },
        "id": "aIayjSi8fW-g",
        "outputId": "d80fc945-64e4-4def-cb78-6648c73ebec0"
      },
      "source": [
        "df_no_missing['ca'].unique()"
      ],
      "execution_count": null,
      "outputs": [
        {
          "output_type": "execute_result",
          "data": {
            "text/plain": [
              "array(['0.0', '3.0', '2.0', '1.0'], dtype=object)"
            ]
          },
          "metadata": {
            "tags": []
          },
          "execution_count": 15
        }
      ]
    },
    {
      "cell_type": "code",
      "metadata": {
        "colab": {
          "base_uri": "https://localhost:8080/"
        },
        "id": "iDNED5njfakt",
        "outputId": "30045060-27e4-4abb-ede6-9392ace2e95e"
      },
      "source": [
        "df_no_missing['thal'].unique()"
      ],
      "execution_count": null,
      "outputs": [
        {
          "output_type": "execute_result",
          "data": {
            "text/plain": [
              "array(['6.0', '3.0', '7.0'], dtype=object)"
            ]
          },
          "metadata": {
            "tags": []
          },
          "execution_count": 16
        }
      ]
    },
    {
      "cell_type": "markdown",
      "metadata": {
        "id": "4IYnWOm17not"
      },
      "source": [
        "**11. 이제 결측치가 없는 데이터 테이블을 변조될 걱정 없이 활용하기 위해 복제를 해서 복사본을 이용하기로 합니다. 그리고 'hd', 즉 심장 질환의 유무를 나타내는 칼럼은 따로 분리해내서 레이블(나중의 'y')로 쓸 것입니다.**"
      ]
    },
    {
      "cell_type": "code",
      "metadata": {
        "id": "SHo8SIJSfcoX"
      },
      "source": [
        "X = df_no_missing.drop('hd', axis=1).copy()   # X = df_no_missing.iloc[:, :-1]          # what happens if axis = 0 ?"
      ],
      "execution_count": null,
      "outputs": []
    },
    {
      "cell_type": "code",
      "metadata": {
        "colab": {
          "base_uri": "https://localhost:8080/",
          "height": 195
        },
        "id": "XErz9AShfqvR",
        "outputId": "64a9cdad-c2bb-4952-bd30-f8d56657f3c3"
      },
      "source": [
        "X.head()"
      ],
      "execution_count": null,
      "outputs": [
        {
          "output_type": "execute_result",
          "data": {
            "text/html": [
              "<div>\n",
              "<style scoped>\n",
              "    .dataframe tbody tr th:only-of-type {\n",
              "        vertical-align: middle;\n",
              "    }\n",
              "\n",
              "    .dataframe tbody tr th {\n",
              "        vertical-align: top;\n",
              "    }\n",
              "\n",
              "    .dataframe thead th {\n",
              "        text-align: right;\n",
              "    }\n",
              "</style>\n",
              "<table border=\"1\" class=\"dataframe\">\n",
              "  <thead>\n",
              "    <tr style=\"text-align: right;\">\n",
              "      <th></th>\n",
              "      <th>age</th>\n",
              "      <th>sex</th>\n",
              "      <th>cp</th>\n",
              "      <th>restbp</th>\n",
              "      <th>chol</th>\n",
              "      <th>fbs</th>\n",
              "      <th>restecg</th>\n",
              "      <th>thalach</th>\n",
              "      <th>exang</th>\n",
              "      <th>oldpeak</th>\n",
              "      <th>slope</th>\n",
              "      <th>ca</th>\n",
              "      <th>thal</th>\n",
              "    </tr>\n",
              "  </thead>\n",
              "  <tbody>\n",
              "    <tr>\n",
              "      <th>0</th>\n",
              "      <td>63.0</td>\n",
              "      <td>1.0</td>\n",
              "      <td>1.0</td>\n",
              "      <td>145.0</td>\n",
              "      <td>233.0</td>\n",
              "      <td>1.0</td>\n",
              "      <td>2.0</td>\n",
              "      <td>150.0</td>\n",
              "      <td>0.0</td>\n",
              "      <td>2.3</td>\n",
              "      <td>3.0</td>\n",
              "      <td>0.0</td>\n",
              "      <td>6.0</td>\n",
              "    </tr>\n",
              "    <tr>\n",
              "      <th>1</th>\n",
              "      <td>67.0</td>\n",
              "      <td>1.0</td>\n",
              "      <td>4.0</td>\n",
              "      <td>160.0</td>\n",
              "      <td>286.0</td>\n",
              "      <td>0.0</td>\n",
              "      <td>2.0</td>\n",
              "      <td>108.0</td>\n",
              "      <td>1.0</td>\n",
              "      <td>1.5</td>\n",
              "      <td>2.0</td>\n",
              "      <td>3.0</td>\n",
              "      <td>3.0</td>\n",
              "    </tr>\n",
              "    <tr>\n",
              "      <th>2</th>\n",
              "      <td>67.0</td>\n",
              "      <td>1.0</td>\n",
              "      <td>4.0</td>\n",
              "      <td>120.0</td>\n",
              "      <td>229.0</td>\n",
              "      <td>0.0</td>\n",
              "      <td>2.0</td>\n",
              "      <td>129.0</td>\n",
              "      <td>1.0</td>\n",
              "      <td>2.6</td>\n",
              "      <td>2.0</td>\n",
              "      <td>2.0</td>\n",
              "      <td>7.0</td>\n",
              "    </tr>\n",
              "    <tr>\n",
              "      <th>3</th>\n",
              "      <td>37.0</td>\n",
              "      <td>1.0</td>\n",
              "      <td>3.0</td>\n",
              "      <td>130.0</td>\n",
              "      <td>250.0</td>\n",
              "      <td>0.0</td>\n",
              "      <td>0.0</td>\n",
              "      <td>187.0</td>\n",
              "      <td>0.0</td>\n",
              "      <td>3.5</td>\n",
              "      <td>3.0</td>\n",
              "      <td>0.0</td>\n",
              "      <td>3.0</td>\n",
              "    </tr>\n",
              "    <tr>\n",
              "      <th>4</th>\n",
              "      <td>41.0</td>\n",
              "      <td>0.0</td>\n",
              "      <td>2.0</td>\n",
              "      <td>130.0</td>\n",
              "      <td>204.0</td>\n",
              "      <td>0.0</td>\n",
              "      <td>2.0</td>\n",
              "      <td>172.0</td>\n",
              "      <td>0.0</td>\n",
              "      <td>1.4</td>\n",
              "      <td>1.0</td>\n",
              "      <td>0.0</td>\n",
              "      <td>3.0</td>\n",
              "    </tr>\n",
              "  </tbody>\n",
              "</table>\n",
              "</div>"
            ],
            "text/plain": [
              "    age  sex   cp  restbp   chol  fbs  ...  thalach  exang  oldpeak  slope   ca thal\n",
              "0  63.0  1.0  1.0   145.0  233.0  1.0  ...    150.0    0.0      2.3    3.0  0.0  6.0\n",
              "1  67.0  1.0  4.0   160.0  286.0  0.0  ...    108.0    1.0      1.5    2.0  3.0  3.0\n",
              "2  67.0  1.0  4.0   120.0  229.0  0.0  ...    129.0    1.0      2.6    2.0  2.0  7.0\n",
              "3  37.0  1.0  3.0   130.0  250.0  0.0  ...    187.0    0.0      3.5    3.0  0.0  3.0\n",
              "4  41.0  0.0  2.0   130.0  204.0  0.0  ...    172.0    0.0      1.4    1.0  0.0  3.0\n",
              "\n",
              "[5 rows x 13 columns]"
            ]
          },
          "metadata": {
            "tags": []
          },
          "execution_count": 18
        }
      ]
    },
    {
      "cell_type": "code",
      "metadata": {
        "colab": {
          "base_uri": "https://localhost:8080/"
        },
        "id": "NwO5qBLbfr3v",
        "outputId": "b9753c04-b297-44d1-cd93-37e47352dcd5"
      },
      "source": [
        "y = df_no_missing['hd'].copy()\r\n",
        "y.head()"
      ],
      "execution_count": null,
      "outputs": [
        {
          "output_type": "execute_result",
          "data": {
            "text/plain": [
              "0    0\n",
              "1    2\n",
              "2    1\n",
              "3    0\n",
              "4    0\n",
              "Name: hd, dtype: int64"
            ]
          },
          "metadata": {
            "tags": []
          },
          "execution_count": 19
        }
      ]
    },
    {
      "cell_type": "code",
      "metadata": {
        "colab": {
          "base_uri": "https://localhost:8080/"
        },
        "id": "3umwA7lafx_r",
        "outputId": "89562203-a593-44d5-ff74-f20ee6828e57"
      },
      "source": [
        "X.dtypes"
      ],
      "execution_count": null,
      "outputs": [
        {
          "output_type": "execute_result",
          "data": {
            "text/plain": [
              "age        float64\n",
              "sex        float64\n",
              "cp         float64\n",
              "restbp     float64\n",
              "chol       float64\n",
              "fbs        float64\n",
              "restecg    float64\n",
              "thalach    float64\n",
              "exang      float64\n",
              "oldpeak    float64\n",
              "slope      float64\n",
              "ca          object\n",
              "thal        object\n",
              "dtype: object"
            ]
          },
          "metadata": {
            "tags": []
          },
          "execution_count": 20
        }
      ]
    },
    {
      "cell_type": "markdown",
      "metadata": {
        "id": "EPd3IGyQ-XNn"
      },
      "source": [
        "**12. 그런데 몇 가지 변수는 3개 이상의 categorical variable(가령, 1, 2, 3, 4로 구분된 4개의 categorical variable)입니다. 가령, 'cp'가 그렇습니다. 이런 경우, sklearn이 제공하는 모형은 대소관계(>, =, <)를 통해서 나뭇가지를 만들기 때문에 1과 2, 3과 4는 각각 묶일 수 있되, 1과 4, 2와 3이 각각 묶일 수는 없게 되는 현상이 발생합니다. 이러한 현상을 해결하기 위해서 get_dummies라는 함수를 통해 각각의 값을 독립시켜주는 작업을 합니다.**"
      ]
    },
    {
      "cell_type": "markdown",
      "metadata": {
        "id": "3D3q9IlqGXI3"
      },
      "source": [
        "\r\n",
        "\r\n",
        "*   이러한 작업을 하는 이유는 sklearn이 제공하는 모형에 맞춰주기 위함인데,\r\n",
        "*   사실 결측치가 있는 데이터를 그대로 두지 않는 것, X와 y를 분리해내는 것 등 모두\r\n",
        "*   sklearn이 제공하는 모형에 데이터를 맞춰주는 작업입니다.\r\n",
        "*   따라서 만약 여러분께서 나무 모형을 sklearn의 도움 없이 새로 코드를 짜서 만들어내신다면,\r\n",
        "*   지금과 같은 작업을 동일하게 수행할 필요는 없게 됩니다.\r\n"
      ]
    },
    {
      "cell_type": "code",
      "metadata": {
        "colab": {
          "base_uri": "https://localhost:8080/"
        },
        "id": "HKj_bizMgCJs",
        "outputId": "385bfba2-4aff-4a41-fa4d-aa1a04607f55"
      },
      "source": [
        "X['cp'].unique()"
      ],
      "execution_count": null,
      "outputs": [
        {
          "output_type": "execute_result",
          "data": {
            "text/plain": [
              "array([1., 4., 3., 2.])"
            ]
          },
          "metadata": {
            "tags": []
          },
          "execution_count": 21
        }
      ]
    },
    {
      "cell_type": "code",
      "metadata": {
        "colab": {
          "base_uri": "https://localhost:8080/",
          "height": 195
        },
        "id": "sU7A7CXdgKDS",
        "outputId": "8fbe9510-02b2-4104-a647-8dfd03c4c1a0"
      },
      "source": [
        "pd.get_dummies(X, columns=['cp']).head()"
      ],
      "execution_count": null,
      "outputs": [
        {
          "output_type": "execute_result",
          "data": {
            "text/html": [
              "<div>\n",
              "<style scoped>\n",
              "    .dataframe tbody tr th:only-of-type {\n",
              "        vertical-align: middle;\n",
              "    }\n",
              "\n",
              "    .dataframe tbody tr th {\n",
              "        vertical-align: top;\n",
              "    }\n",
              "\n",
              "    .dataframe thead th {\n",
              "        text-align: right;\n",
              "    }\n",
              "</style>\n",
              "<table border=\"1\" class=\"dataframe\">\n",
              "  <thead>\n",
              "    <tr style=\"text-align: right;\">\n",
              "      <th></th>\n",
              "      <th>age</th>\n",
              "      <th>sex</th>\n",
              "      <th>restbp</th>\n",
              "      <th>chol</th>\n",
              "      <th>fbs</th>\n",
              "      <th>restecg</th>\n",
              "      <th>thalach</th>\n",
              "      <th>exang</th>\n",
              "      <th>oldpeak</th>\n",
              "      <th>slope</th>\n",
              "      <th>ca</th>\n",
              "      <th>thal</th>\n",
              "      <th>cp_1.0</th>\n",
              "      <th>cp_2.0</th>\n",
              "      <th>cp_3.0</th>\n",
              "      <th>cp_4.0</th>\n",
              "    </tr>\n",
              "  </thead>\n",
              "  <tbody>\n",
              "    <tr>\n",
              "      <th>0</th>\n",
              "      <td>63.0</td>\n",
              "      <td>1.0</td>\n",
              "      <td>145.0</td>\n",
              "      <td>233.0</td>\n",
              "      <td>1.0</td>\n",
              "      <td>2.0</td>\n",
              "      <td>150.0</td>\n",
              "      <td>0.0</td>\n",
              "      <td>2.3</td>\n",
              "      <td>3.0</td>\n",
              "      <td>0.0</td>\n",
              "      <td>6.0</td>\n",
              "      <td>1</td>\n",
              "      <td>0</td>\n",
              "      <td>0</td>\n",
              "      <td>0</td>\n",
              "    </tr>\n",
              "    <tr>\n",
              "      <th>1</th>\n",
              "      <td>67.0</td>\n",
              "      <td>1.0</td>\n",
              "      <td>160.0</td>\n",
              "      <td>286.0</td>\n",
              "      <td>0.0</td>\n",
              "      <td>2.0</td>\n",
              "      <td>108.0</td>\n",
              "      <td>1.0</td>\n",
              "      <td>1.5</td>\n",
              "      <td>2.0</td>\n",
              "      <td>3.0</td>\n",
              "      <td>3.0</td>\n",
              "      <td>0</td>\n",
              "      <td>0</td>\n",
              "      <td>0</td>\n",
              "      <td>1</td>\n",
              "    </tr>\n",
              "    <tr>\n",
              "      <th>2</th>\n",
              "      <td>67.0</td>\n",
              "      <td>1.0</td>\n",
              "      <td>120.0</td>\n",
              "      <td>229.0</td>\n",
              "      <td>0.0</td>\n",
              "      <td>2.0</td>\n",
              "      <td>129.0</td>\n",
              "      <td>1.0</td>\n",
              "      <td>2.6</td>\n",
              "      <td>2.0</td>\n",
              "      <td>2.0</td>\n",
              "      <td>7.0</td>\n",
              "      <td>0</td>\n",
              "      <td>0</td>\n",
              "      <td>0</td>\n",
              "      <td>1</td>\n",
              "    </tr>\n",
              "    <tr>\n",
              "      <th>3</th>\n",
              "      <td>37.0</td>\n",
              "      <td>1.0</td>\n",
              "      <td>130.0</td>\n",
              "      <td>250.0</td>\n",
              "      <td>0.0</td>\n",
              "      <td>0.0</td>\n",
              "      <td>187.0</td>\n",
              "      <td>0.0</td>\n",
              "      <td>3.5</td>\n",
              "      <td>3.0</td>\n",
              "      <td>0.0</td>\n",
              "      <td>3.0</td>\n",
              "      <td>0</td>\n",
              "      <td>0</td>\n",
              "      <td>1</td>\n",
              "      <td>0</td>\n",
              "    </tr>\n",
              "    <tr>\n",
              "      <th>4</th>\n",
              "      <td>41.0</td>\n",
              "      <td>0.0</td>\n",
              "      <td>130.0</td>\n",
              "      <td>204.0</td>\n",
              "      <td>0.0</td>\n",
              "      <td>2.0</td>\n",
              "      <td>172.0</td>\n",
              "      <td>0.0</td>\n",
              "      <td>1.4</td>\n",
              "      <td>1.0</td>\n",
              "      <td>0.0</td>\n",
              "      <td>3.0</td>\n",
              "      <td>0</td>\n",
              "      <td>1</td>\n",
              "      <td>0</td>\n",
              "      <td>0</td>\n",
              "    </tr>\n",
              "  </tbody>\n",
              "</table>\n",
              "</div>"
            ],
            "text/plain": [
              "    age  sex  restbp   chol  fbs  ...  thal  cp_1.0  cp_2.0  cp_3.0  cp_4.0\n",
              "0  63.0  1.0   145.0  233.0  1.0  ...   6.0       1       0       0       0\n",
              "1  67.0  1.0   160.0  286.0  0.0  ...   3.0       0       0       0       1\n",
              "2  67.0  1.0   120.0  229.0  0.0  ...   7.0       0       0       0       1\n",
              "3  37.0  1.0   130.0  250.0  0.0  ...   3.0       0       0       1       0\n",
              "4  41.0  0.0   130.0  204.0  0.0  ...   3.0       0       1       0       0\n",
              "\n",
              "[5 rows x 16 columns]"
            ]
          },
          "metadata": {
            "tags": []
          },
          "execution_count": 22
        }
      ]
    },
    {
      "cell_type": "markdown",
      "metadata": {
        "id": "Q9T0dBj_HI4B"
      },
      "source": [
        "\r\n",
        "\r\n",
        "*   데이터 설명 링크를 참조하면서, 다른 categorical variable에 대해서도 마찬가지의 작업을 수행해줍니다.\r\n",
        "*   다만, 성별과 같은 변수는 데이터상 0과 1의 값만 가지고 있기 때문에 대소관계에서 발생하는 문제는 없어서 그대로 두셔도 괜찮습니다.\r\n",
        "\r\n"
      ]
    },
    {
      "cell_type": "code",
      "metadata": {
        "colab": {
          "base_uri": "https://localhost:8080/",
          "height": 215
        },
        "id": "0J-M3q79gSRF",
        "outputId": "750b8316-4d16-4762-e242-df678a81bd7d"
      },
      "source": [
        "X_encoded = pd.get_dummies(X, columns=['cp', 'restecg', 'slope', 'thal'])\r\n",
        "\r\n",
        "X_encoded.head()"
      ],
      "execution_count": null,
      "outputs": [
        {
          "output_type": "execute_result",
          "data": {
            "text/html": [
              "<div>\n",
              "<style scoped>\n",
              "    .dataframe tbody tr th:only-of-type {\n",
              "        vertical-align: middle;\n",
              "    }\n",
              "\n",
              "    .dataframe tbody tr th {\n",
              "        vertical-align: top;\n",
              "    }\n",
              "\n",
              "    .dataframe thead th {\n",
              "        text-align: right;\n",
              "    }\n",
              "</style>\n",
              "<table border=\"1\" class=\"dataframe\">\n",
              "  <thead>\n",
              "    <tr style=\"text-align: right;\">\n",
              "      <th></th>\n",
              "      <th>age</th>\n",
              "      <th>sex</th>\n",
              "      <th>restbp</th>\n",
              "      <th>chol</th>\n",
              "      <th>fbs</th>\n",
              "      <th>thalach</th>\n",
              "      <th>exang</th>\n",
              "      <th>oldpeak</th>\n",
              "      <th>ca</th>\n",
              "      <th>cp_1.0</th>\n",
              "      <th>cp_2.0</th>\n",
              "      <th>cp_3.0</th>\n",
              "      <th>cp_4.0</th>\n",
              "      <th>restecg_0.0</th>\n",
              "      <th>restecg_1.0</th>\n",
              "      <th>restecg_2.0</th>\n",
              "      <th>slope_1.0</th>\n",
              "      <th>slope_2.0</th>\n",
              "      <th>slope_3.0</th>\n",
              "      <th>thal_3.0</th>\n",
              "      <th>thal_6.0</th>\n",
              "      <th>thal_7.0</th>\n",
              "    </tr>\n",
              "  </thead>\n",
              "  <tbody>\n",
              "    <tr>\n",
              "      <th>0</th>\n",
              "      <td>63.0</td>\n",
              "      <td>1.0</td>\n",
              "      <td>145.0</td>\n",
              "      <td>233.0</td>\n",
              "      <td>1.0</td>\n",
              "      <td>150.0</td>\n",
              "      <td>0.0</td>\n",
              "      <td>2.3</td>\n",
              "      <td>0.0</td>\n",
              "      <td>1</td>\n",
              "      <td>0</td>\n",
              "      <td>0</td>\n",
              "      <td>0</td>\n",
              "      <td>0</td>\n",
              "      <td>0</td>\n",
              "      <td>1</td>\n",
              "      <td>0</td>\n",
              "      <td>0</td>\n",
              "      <td>1</td>\n",
              "      <td>0</td>\n",
              "      <td>1</td>\n",
              "      <td>0</td>\n",
              "    </tr>\n",
              "    <tr>\n",
              "      <th>1</th>\n",
              "      <td>67.0</td>\n",
              "      <td>1.0</td>\n",
              "      <td>160.0</td>\n",
              "      <td>286.0</td>\n",
              "      <td>0.0</td>\n",
              "      <td>108.0</td>\n",
              "      <td>1.0</td>\n",
              "      <td>1.5</td>\n",
              "      <td>3.0</td>\n",
              "      <td>0</td>\n",
              "      <td>0</td>\n",
              "      <td>0</td>\n",
              "      <td>1</td>\n",
              "      <td>0</td>\n",
              "      <td>0</td>\n",
              "      <td>1</td>\n",
              "      <td>0</td>\n",
              "      <td>1</td>\n",
              "      <td>0</td>\n",
              "      <td>1</td>\n",
              "      <td>0</td>\n",
              "      <td>0</td>\n",
              "    </tr>\n",
              "    <tr>\n",
              "      <th>2</th>\n",
              "      <td>67.0</td>\n",
              "      <td>1.0</td>\n",
              "      <td>120.0</td>\n",
              "      <td>229.0</td>\n",
              "      <td>0.0</td>\n",
              "      <td>129.0</td>\n",
              "      <td>1.0</td>\n",
              "      <td>2.6</td>\n",
              "      <td>2.0</td>\n",
              "      <td>0</td>\n",
              "      <td>0</td>\n",
              "      <td>0</td>\n",
              "      <td>1</td>\n",
              "      <td>0</td>\n",
              "      <td>0</td>\n",
              "      <td>1</td>\n",
              "      <td>0</td>\n",
              "      <td>1</td>\n",
              "      <td>0</td>\n",
              "      <td>0</td>\n",
              "      <td>0</td>\n",
              "      <td>1</td>\n",
              "    </tr>\n",
              "    <tr>\n",
              "      <th>3</th>\n",
              "      <td>37.0</td>\n",
              "      <td>1.0</td>\n",
              "      <td>130.0</td>\n",
              "      <td>250.0</td>\n",
              "      <td>0.0</td>\n",
              "      <td>187.0</td>\n",
              "      <td>0.0</td>\n",
              "      <td>3.5</td>\n",
              "      <td>0.0</td>\n",
              "      <td>0</td>\n",
              "      <td>0</td>\n",
              "      <td>1</td>\n",
              "      <td>0</td>\n",
              "      <td>1</td>\n",
              "      <td>0</td>\n",
              "      <td>0</td>\n",
              "      <td>0</td>\n",
              "      <td>0</td>\n",
              "      <td>1</td>\n",
              "      <td>1</td>\n",
              "      <td>0</td>\n",
              "      <td>0</td>\n",
              "    </tr>\n",
              "    <tr>\n",
              "      <th>4</th>\n",
              "      <td>41.0</td>\n",
              "      <td>0.0</td>\n",
              "      <td>130.0</td>\n",
              "      <td>204.0</td>\n",
              "      <td>0.0</td>\n",
              "      <td>172.0</td>\n",
              "      <td>0.0</td>\n",
              "      <td>1.4</td>\n",
              "      <td>0.0</td>\n",
              "      <td>0</td>\n",
              "      <td>1</td>\n",
              "      <td>0</td>\n",
              "      <td>0</td>\n",
              "      <td>0</td>\n",
              "      <td>0</td>\n",
              "      <td>1</td>\n",
              "      <td>1</td>\n",
              "      <td>0</td>\n",
              "      <td>0</td>\n",
              "      <td>1</td>\n",
              "      <td>0</td>\n",
              "      <td>0</td>\n",
              "    </tr>\n",
              "  </tbody>\n",
              "</table>\n",
              "</div>"
            ],
            "text/plain": [
              "    age  sex  restbp   chol  ...  slope_3.0  thal_3.0  thal_6.0  thal_7.0\n",
              "0  63.0  1.0   145.0  233.0  ...          1         0         1         0\n",
              "1  67.0  1.0   160.0  286.0  ...          0         1         0         0\n",
              "2  67.0  1.0   120.0  229.0  ...          0         0         0         1\n",
              "3  37.0  1.0   130.0  250.0  ...          1         1         0         0\n",
              "4  41.0  0.0   130.0  204.0  ...          0         1         0         0\n",
              "\n",
              "[5 rows x 22 columns]"
            ]
          },
          "metadata": {
            "tags": []
          },
          "execution_count": 23
        }
      ]
    },
    {
      "cell_type": "markdown",
      "metadata": {
        "id": "cmChRDnjH4f_"
      },
      "source": [
        "**13. 편의상 레이블도 두 가지로(질환의 경중을 따지지 않고, 질병이 있는 경우와 없는 경우) 구분하기로 합니다. Binary classification problem으로 만들어봅니다.**"
      ]
    },
    {
      "cell_type": "code",
      "metadata": {
        "colab": {
          "base_uri": "https://localhost:8080/"
        },
        "id": "yoT7hkxigbxG",
        "outputId": "c5775b12-9aad-424d-cb08-cee1b533cb99"
      },
      "source": [
        "y.unique()"
      ],
      "execution_count": null,
      "outputs": [
        {
          "output_type": "execute_result",
          "data": {
            "text/plain": [
              "array([0, 2, 1, 3, 4])"
            ]
          },
          "metadata": {
            "tags": []
          },
          "execution_count": 24
        }
      ]
    },
    {
      "cell_type": "code",
      "metadata": {
        "colab": {
          "base_uri": "https://localhost:8080/"
        },
        "id": "hRl7luyNgiGA",
        "outputId": "e9a40b0e-4e45-4837-da5c-a74a07227fa8"
      },
      "source": [
        "y_not_zero_query = y > 0\r\n",
        "\r\n",
        "y[y_not_zero_query] = 1\r\n",
        "\r\n",
        "y.unique()"
      ],
      "execution_count": null,
      "outputs": [
        {
          "output_type": "execute_result",
          "data": {
            "text/plain": [
              "array([0, 1])"
            ]
          },
          "metadata": {
            "tags": []
          },
          "execution_count": 26
        }
      ]
    },
    {
      "cell_type": "markdown",
      "metadata": {
        "id": "vK7oPqOqILsz"
      },
      "source": [
        "**14. 이제 sklearn을 본격적으로 활용할 때가 왔습니다. 사실 직접 코딩하면 굉장히 오래 걸리는 일인데, 이미 만들어진 코드를 그저 가져와 사용하기 때문에 세 줄이 전부입니다. 아래와 같은 세 줄의 코드로 현재 데이터에 대한 Decision Tree가 만들어집니다.**"
      ]
    },
    {
      "cell_type": "code",
      "metadata": {
        "id": "Q0H71tAFggzK"
      },
      "source": [
        "X_train, X_test, y_train, y_test = train_test_split(X_encoded, y, random_state=42)  \r\n",
        "  # random_state=42는 그저 저희 모두가 동일한 결과물이 나오도록 조정해둔 것입니다. (컴퓨터의 세계에서 랜덤은 사실 없습니다.)\r\n",
        "  # 학습 데이터/레이블와 테스트 데이터/레이블을 sklearn이 알아서 나눠줍니다. (Default상 약 75:25의 비율로 만들어줍니다.)\r\n",
        "\r\n",
        "clf_dt = DecisionTreeClassifier(random_state=42)\r\n",
        "  # 나무를 만들기로 선언합니다.\r\n",
        "clf_dt = clf_dt.fit(X_train, y_train)\r\n",
        "  # 나무에다가 학습 데이터/레이블을 집어넣습니다.   -> 나무가 만들어졌습니다!"
      ],
      "execution_count": null,
      "outputs": []
    },
    {
      "cell_type": "code",
      "metadata": {
        "colab": {
          "base_uri": "https://localhost:8080/"
        },
        "id": "u3JrserIKA_F",
        "outputId": "ffb54145-8468-4694-c04a-330156f31a05"
      },
      "source": [
        "print(len(y))\r\n",
        "print(len(y_train))\r\n",
        "print(len(y_test))"
      ],
      "execution_count": null,
      "outputs": [
        {
          "output_type": "stream",
          "text": [
            "297\n",
            "222\n",
            "75\n"
          ],
          "name": "stdout"
        }
      ]
    },
    {
      "cell_type": "markdown",
      "metadata": {
        "id": "nvBAZzYHJMu-"
      },
      "source": [
        "**15. 이제 만들어진 나무를 그림으로도 그려봅니다. 역시 sklearn이 제공하는 기능입니다.**"
      ]
    },
    {
      "cell_type": "code",
      "metadata": {
        "colab": {
          "base_uri": "https://localhost:8080/",
          "height": 439
        },
        "id": "rCTSVy0Og-2L",
        "outputId": "1faae5a2-6e98-482f-ff2f-50462b7b38f9"
      },
      "source": [
        "plt.figure(figsize=(15, 7.5))\r\n",
        "plot_tree(clf_dt, filled=True, rounded=True, class_names=[\"No HD\", \"Yes HD\"], feature_names = X_encoded.columns);"
      ],
      "execution_count": null,
      "outputs": [
        {
          "output_type": "display_data",
          "data": {
            "image/png": "[encoded data removed]",
            "text/plain": [
              "<Figure size 1080x540 with 1 Axes>"
            ]
          },
          "metadata": {
            "tags": [],
            "needs_background": "light"
          }
        }
      ]
    },
    {
      "cell_type": "markdown",
      "metadata": {
        "id": "NyWqx6NnJTlS"
      },
      "source": [
        "**16. 얼마나 잘 맞추는지 확인해보기 위해서 좀전에 만들어둔 테스트 데이터/레이블로 실험을 해보고 그림으로 나타냅니다.**\r\n",
        "\r\n",
        "\r\n",
        "*   맞춘 것과 틀린 것을 아래처럼 표와 같은 그림으로 나타낸 것을 confusion matrix라고 부릅니다.\r\n",
        "*   심장 질환이 없었던 사람 총 42명 중에서는 31명을 맞췄고, (약 74%)\r\n",
        "*   심장 질환이 있었던 사람 총 33명 중에서는 26명을 맞췄습니다. (약 79%)\r\n",
        "\r\n",
        "\r\n"
      ]
    },
    {
      "cell_type": "code",
      "metadata": {
        "colab": {
          "base_uri": "https://localhost:8080/",
          "height": 297
        },
        "id": "mbZ2n4FjhRfP",
        "outputId": "cc7decac-93c5-49e6-a7a0-c3d9920403f6"
      },
      "source": [
        "plot_confusion_matrix(clf_dt, X_test, y_test, display_labels=[\"Does not have HD\", \"Has HD\"])"
      ],
      "execution_count": null,
      "outputs": [
        {
          "output_type": "execute_result",
          "data": {
            "text/plain": [
              "<sklearn.metrics._plot.confusion_matrix.ConfusionMatrixDisplay at 0x7fe45fd75198>"
            ]
          },
          "metadata": {
            "tags": []
          },
          "execution_count": 29
        },
        {
          "output_type": "display_data",
          "data": {
            "image/png": "[encoded data removed]",
            "text/plain": [
              "<Figure size 432x288 with 2 Axes>"
            ]
          },
          "metadata": {
            "tags": [],
            "needs_background": "light"
          }
        }
      ]
    },
    {
      "cell_type": "markdown",
      "metadata": {
        "id": "ZCUqaIa6KSF_"
      },
      "source": [
        "**17. 더 잘 맞출 수는 없을까요?... 나무가 너무 크고 깊으면 과적합(over-fitting) 현상이 나타나서 기존의 데이터(X_train)는 외운 듯이 잘 맞추지만, 새로운 데이터(X_test)는 곧잘 틀립니다. 그래서 나무의 크기를 좀 줄여주는 일종의 가지치기 작업을 해주면 좋은데, 0과 1 사이의 $\\alpha$ 값이 있어서 이 값을 1에 가깝게 높일수록 가지를 많이 없애고, 이 값을 0에 가깝게 작게 할수록 나무의 크기를 원래대로 둔다고 합시다. 적절한 $\\alpha$ 값을 찾아볼 것입니다.**"
      ]
    },
    {
      "cell_type": "markdown",
      "metadata": {
        "id": "nxBXpAebLl0o"
      },
      "source": [
        "*   Cost complexity pruning이라는 방법을 써서 $\\alpha$ 값이 1에 가까워질수록 가장 정보 가치가 낮은 가지부터 순서대로 없어지도록 할 것입니다.\r\n",
        "\r\n",
        "*   역시나 sklearn에서 만들어둔 함수를 그대로 쓸 수 있습니다.\r\n",
        "\r\n",
        "*   이 부분은 조금 어려운 내용이니, 궁금하신 분들께서는 별도로 질문을 해주시면 따로 설명을 드리도록 하겠습니다."
      ]
    },
    {
      "cell_type": "code",
      "metadata": {
        "id": "08-qkonEhlPe"
      },
      "source": [
        "path = clf_dt.cost_complexity_pruning_path(X_train, y_train)\r\n",
        "ccp_alphas = path.ccp_alphas\r\n",
        "ccp_alphas = ccp_alphas[:-1]\r\n",
        "\r\n",
        "clf_dts = []\r\n",
        "\r\n",
        "for ccp_alpha in ccp_alphas:\r\n",
        "  clf_dt = DecisionTreeClassifier(random_state=0, ccp_alpha=ccp_alpha)\r\n",
        "  clf_dt.fit(X_train, y_train)\r\n",
        "  clf_dts.append(clf_dt)"
      ],
      "execution_count": null,
      "outputs": []
    },
    {
      "cell_type": "markdown",
      "metadata": {
        "id": "fEsZO_WGM03N"
      },
      "source": [
        "**18. $\\alpha$ 값이 달라짐에 따라서 기존의 데이터(X_train, y_train)에 대한 예측력은 어떻게 달라지며, 새로운 데이터(X_test, y_test)에 대한 예측력은 어떻게 달라지는지 그림(시각화)을 통해 관찰해봅니다.**"
      ]
    },
    {
      "cell_type": "code",
      "metadata": {
        "colab": {
          "base_uri": "https://localhost:8080/",
          "height": 295
        },
        "id": "MgAK-HmpiDul",
        "outputId": "de841b74-34c4-471f-b80d-50c4518f3a92"
      },
      "source": [
        "train_scores = [clf_dt.score(X_train, y_train) for clf_dt in clf_dts]\r\n",
        "test_scores = [clf_dt.score(X_test, y_test) for clf_dt in clf_dts]\r\n",
        "\r\n",
        "fig, ax = plt.subplots()\r\n",
        "ax.set_xlabel(\"alpha\")\r\n",
        "ax.set_ylabel(\"accuracy\")\r\n",
        "ax.set_title(\"Accuracy vs alpha for training and teesting sets\")\r\n",
        "ax.plot(ccp_alphas, train_scores, marker='o', label=\"train\", drawstyle=\"steps-post\")\r\n",
        "ax.plot(ccp_alphas, test_scores, marker='o', label='test', drawstyle=\"steps-post\")\r\n",
        "ax.legend()\r\n",
        "plt.show()"
      ],
      "execution_count": null,
      "outputs": [
        {
          "output_type": "display_data",
          "data": {
            "image/png": "[encoded data removed]",
            "text/plain": [
              "<Figure size 432x288 with 1 Axes>"
            ]
          },
          "metadata": {
            "tags": [],
            "needs_background": "light"
          }
        }
      ]
    },
    {
      "cell_type": "markdown",
      "metadata": {
        "id": "VspAlouKNIck"
      },
      "source": [
        "\r\n",
        "\r\n",
        "*   나무를 자르지 않은 상태($\\alpha=0$)에서는 역시 train 데이터를 외운 듯이 잘 예측하지만, 새로운 test 데이터의 예측력은 낮습니다.\r\n",
        "*   한편, $\\alpha$ 값이 커짐에 따라서 나무의 크기는 점점 작아지는데, 나무가 점차 단순해지면서 기존의 train 데이터를 설명하는 능력도 저하되지만, 오히려 test 데이터에 대한 예측력은 높아집니다.\r\n",
        "*  결국 위의 그림에서 적절한 $\\alpha$ 값은 약 0.016으로 보입니다.\r\n",
        "\r\n"
      ]
    },
    {
      "cell_type": "markdown",
      "metadata": {
        "id": "lqnxAHl3NxN2"
      },
      "source": [
        "**19. 한편, X_train, y_train과 X_test, y_test를 분리할 때부터 생기는 우연적 영향이 있는 상태에서, 위와 같은 단편적인 test로 $\\alpha$ 값을 정하기보다는, train set을 5등분해서 Cross-Validation하여 좀더 종합적인 평가를 해서 $\\alpha$ 값을 정하기로 합니다. (우선은 한 번 $\\alpha$값은 그대로 0.016으로 두어봅니다.)**"
      ]
    },
    {
      "cell_type": "markdown",
      "metadata": {
        "id": "uBgA8laiONXe"
      },
      "source": [
        "\r\n",
        "\r\n",
        "*   KNN 알고리즘을 배울 때 소개해드렸던 Cross-Validation을 사용합니다.\r\n",
        "*   마찬가지로 sklearn에서 함수를 정의해두어서 활용할 수 있습니다.\r\n",
        "*   데이터를 총 5등분해서 test 데이터를 바꿔보는 작업인데, 다섯 번 해보니 1번째 때 예측력이 높게 나오나, 2번째, 3번째, 4번째 그리고 특히 0번째 때 예측력(55% 미만)이 매우 낮다는 점을 알 수 있습니다.\r\n",
        "*   결국, 지금까지 찾은 0.016이라는 $\\alpha$ 값은 최선의 $\\alpha$ 값이 아닐 수 있는 것입니다. \r\n",
        "\r\n"
      ]
    },
    {
      "cell_type": "code",
      "metadata": {
        "colab": {
          "base_uri": "https://localhost:8080/",
          "height": 297
        },
        "id": "7ZhuEqyWiv1S",
        "outputId": "89f0a5e9-bfb6-42e0-e62f-f3235d71e9b4"
      },
      "source": [
        "clf_dt = DecisionTreeClassifier(random_state=42, ccp_alpha=0.016)\r\n",
        "\r\n",
        "scores = cross_val_score(clf_dt, X_train, y_train, cv=5)\r\n",
        "df=pd.DataFrame(data={'tree':range(5), 'accuracy':scores})\r\n",
        "\r\n",
        "df.plot(x='tree', y='accuracy', marker='o', linestyle='--')"
      ],
      "execution_count": null,
      "outputs": [
        {
          "output_type": "execute_result",
          "data": {
            "text/plain": [
              "<matplotlib.axes._subplots.AxesSubplot at 0x7f4238e20cc0>"
            ]
          },
          "metadata": {
            "tags": []
          },
          "execution_count": 30
        },
        {
          "output_type": "display_data",
          "data": {
            "image/png": "[encoded data removed]",
            "text/plain": [
              "<Figure size 432x288 with 1 Axes>"
            ]
          },
          "metadata": {
            "tags": [],
            "needs_background": "light"
          }
        }
      ]
    },
    {
      "cell_type": "markdown",
      "metadata": {
        "id": "Psg395ACOuOC"
      },
      "source": [
        "**20. 5등분된 데이터를 통해서 (X_train을 5등분하여 만들어낸 새로운)test 데이터를 달리 바꾸어가면서, 가장 좋은 $\\alpha$ 값을 다시 찾아나갑니다. $\\alpha$ 값에 대해서 5번의 예측을 평균 내어서 예측력이 가장 높은 $\\alpha$ 값을 다시 찾을 것입니다.**"
      ]
    },
    {
      "cell_type": "code",
      "metadata": {
        "colab": {
          "base_uri": "https://localhost:8080/",
          "height": 300
        },
        "id": "nV8IuOnjjIzE",
        "outputId": "5dc31098-5ff2-4a10-de90-29e23b47182e"
      },
      "source": [
        "alpha_loop_values = []\r\n",
        "\r\n",
        "for ccp_alpha in ccp_alphas:\r\n",
        "  clf_dt = DecisionTreeClassifier(random_state=0, ccp_alpha=ccp_alpha)\r\n",
        "  scores = cross_val_score(clf_dt, X_train, y_train, cv=5)\r\n",
        "  alpha_loop_values.append([ccp_alpha, np.mean(scores), np.std(scores)])\r\n",
        "\r\n",
        "alpha_results = pd.DataFrame(alpha_loop_values, columns=['alpha', 'mean_accuracy', 'std'])\r\n",
        "\r\n",
        "alpha_results.plot(x='alpha', y='mean_accuracy',yerr='std', marker='o', linestyle='--')"
      ],
      "execution_count": null,
      "outputs": [
        {
          "output_type": "execute_result",
          "data": {
            "text/plain": [
              "<matplotlib.axes._subplots.AxesSubplot at 0x7f4238c040b8>"
            ]
          },
          "metadata": {
            "tags": []
          },
          "execution_count": 43
        },
        {
          "output_type": "display_data",
          "data": {
            "image/png": "[encoded data removed]",
            "text/plain": [
              "<Figure size 432x288 with 1 Axes>"
            ]
          },
          "metadata": {
            "tags": [],
            "needs_background": "light"
          }
        }
      ]
    },
    {
      "cell_type": "markdown",
      "metadata": {
        "id": "7i7EzT4ZPh-_"
      },
      "source": [
        "\r\n",
        "\r\n",
        "*   뭔가 0.011 초과 0.015 미만의 구간에서 최적의 예측력을 보이는 $\\alpha$ 값이 존재한다는 점을 알 수 있습니다.\r\n",
        "*   아래와 같이 구간을 설정하여 해당 구간에 $\\alpha$ 값이 있는 행만을 뽑아냅니다.\r\n",
        "\r\n"
      ]
    },
    {
      "cell_type": "code",
      "metadata": {
        "colab": {
          "base_uri": "https://localhost:8080/",
          "height": 77
        },
        "id": "AMeHaRtYkK8A",
        "outputId": "45d101a8-a325-42d0-9b4c-50229ddf4714"
      },
      "source": [
        "alpha_results[(alpha_results['alpha']>0.011) & (alpha_results['alpha']<0.015)]"
      ],
      "execution_count": null,
      "outputs": [
        {
          "output_type": "execute_result",
          "data": {
            "text/html": [
              "<div>\n",
              "<style scoped>\n",
              "    .dataframe tbody tr th:only-of-type {\n",
              "        vertical-align: middle;\n",
              "    }\n",
              "\n",
              "    .dataframe tbody tr th {\n",
              "        vertical-align: top;\n",
              "    }\n",
              "\n",
              "    .dataframe thead th {\n",
              "        text-align: right;\n",
              "    }\n",
              "</style>\n",
              "<table border=\"1\" class=\"dataframe\">\n",
              "  <thead>\n",
              "    <tr style=\"text-align: right;\">\n",
              "      <th></th>\n",
              "      <th>alpha</th>\n",
              "      <th>mean_accuracy</th>\n",
              "      <th>std</th>\n",
              "    </tr>\n",
              "  </thead>\n",
              "  <tbody>\n",
              "    <tr>\n",
              "      <th>20</th>\n",
              "      <td>0.014225</td>\n",
              "      <td>0.747778</td>\n",
              "      <td>0.091395</td>\n",
              "    </tr>\n",
              "  </tbody>\n",
              "</table>\n",
              "</div>"
            ],
            "text/plain": [
              "       alpha  mean_accuracy       std\n",
              "20  0.014225       0.747778  0.091395"
            ]
          },
          "metadata": {
            "tags": []
          },
          "execution_count": 41
        }
      ]
    },
    {
      "cell_type": "code",
      "metadata": {
        "id": "wwylClRokfVo"
      },
      "source": [
        "ideal_ccp_alpha = alpha_results[(alpha_results['alpha']>0.014) & (alpha_results['alpha']<0.015)]['alpha']"
      ],
      "execution_count": null,
      "outputs": []
    },
    {
      "cell_type": "code",
      "metadata": {
        "colab": {
          "base_uri": "https://localhost:8080/"
        },
        "id": "LxK2hsKSkxKR",
        "outputId": "9c323ecd-114e-4f46-e144-5c0721dae4fc"
      },
      "source": [
        "ideal_ccp_alpha"
      ],
      "execution_count": null,
      "outputs": [
        {
          "output_type": "execute_result",
          "data": {
            "text/plain": [
              "20    0.014225\n",
              "Name: alpha, dtype: float64"
            ]
          },
          "metadata": {
            "tags": []
          },
          "execution_count": 34
        }
      ]
    },
    {
      "cell_type": "code",
      "metadata": {
        "id": "zBw8yAnlkzYn"
      },
      "source": [
        "ideal_ccp_alpha = float(ideal_ccp_alpha)"
      ],
      "execution_count": null,
      "outputs": []
    },
    {
      "cell_type": "code",
      "metadata": {
        "colab": {
          "base_uri": "https://localhost:8080/"
        },
        "id": "MZNMYONplGBM",
        "outputId": "66a7dafb-b7cd-4b1f-cc61-249362c1994e"
      },
      "source": [
        "ideal_ccp_alpha"
      ],
      "execution_count": null,
      "outputs": [
        {
          "output_type": "execute_result",
          "data": {
            "text/plain": [
              "0.014224751066856332"
            ]
          },
          "metadata": {
            "tags": []
          },
          "execution_count": 36
        }
      ]
    },
    {
      "cell_type": "markdown",
      "metadata": {
        "id": "PhTZa4tvQIgE"
      },
      "source": [
        "**21. $\\alpha = 0.014224751066856332$일 때 실제로 예측력이 개선되는지 confusion matrix를 통해서 확인해봅니다.**"
      ]
    },
    {
      "cell_type": "code",
      "metadata": {
        "id": "G-3W7Tu1lG21"
      },
      "source": [
        "clf_dt_pruned = DecisionTreeClassifier(random_state=42, ccp_alpha=ideal_ccp_alpha)\r\n",
        "clf_dt_pruned = clf_dt_pruned.fit(X_train, y_train)"
      ],
      "execution_count": null,
      "outputs": []
    },
    {
      "cell_type": "code",
      "metadata": {
        "colab": {
          "base_uri": "https://localhost:8080/",
          "height": 297
        },
        "id": "bq-SmHR4lUZF",
        "outputId": "6a11b935-37c8-483e-8da8-82e1da0d8ffa"
      },
      "source": [
        "plot_confusion_matrix(clf_dt_pruned, X_test, y_test, display_labels=[\"Does not have HD\", \"Has HD\"])"
      ],
      "execution_count": null,
      "outputs": [
        {
          "output_type": "execute_result",
          "data": {
            "text/plain": [
              "<sklearn.metrics._plot.confusion_matrix.ConfusionMatrixDisplay at 0x7f4238dbafd0>"
            ]
          },
          "metadata": {
            "tags": []
          },
          "execution_count": 38
        },
        {
          "output_type": "display_data",
          "data": {
            "image/png": "[encoded data removed]",
            "text/plain": [
              "<Figure size 432x288 with 2 Axes>"
            ]
          },
          "metadata": {
            "tags": [],
            "needs_background": "light"
          }
        }
      ]
    },
    {
      "cell_type": "markdown",
      "metadata": {
        "id": "gBAKEuvVQU0G"
      },
      "source": [
        "*   심장 질환이 없었던 사람 총 42명 중에서는 (31명$\\rightarrow$)34명을 맞췄고, (약 74% $\\rightarrow$ 약 81%)\r\n",
        "*   심장 질환이 있었던 사람 총 33명 중에서는 (26명$\\rightarrow$) 28명을 맞췄습니다. (약 79% $\\rightarrow$ 약 85%)\r\n",
        "*   심장 질환이 없는데 있다고 오진하여 불필요한 치료로 건강에 오히려 영향을 줄 뻔했던 사람들을 3명 줄였고,\r\n",
        "*   심장 질환이 있는데 없다고 오진할 뻔했던 사람들은 2명 줄였습니다."
      ]
    },
    {
      "cell_type": "markdown",
      "metadata": {
        "id": "YEWi0c8AQTUq"
      },
      "source": [
        "**22. 마지막으로, 이렇게 가지치기를 한 결과를 그림으로도 나타내봅니다. 아까의 과적합된 나무보다는 좀더 단순하다는 점을 확인할 수 있습니다.**"
      ]
    },
    {
      "cell_type": "code",
      "metadata": {
        "colab": {
          "base_uri": "https://localhost:8080/",
          "height": 439
        },
        "id": "ECysGN-ulb1o",
        "outputId": "63a49cdc-65f0-4156-df01-4e6b53d2a83d"
      },
      "source": [
        "plt.figure(figsize=(15, 7.5))\r\n",
        "plot_tree(clf_dt_pruned, filled=True, rounded=True, class_names=[\"No HD\", \"Yes HD\"], feature_names = X_encoded.columns);"
      ],
      "execution_count": null,
      "outputs": [
        {
          "output_type": "display_data",
          "data": {
            "image/png": "[encoded data removed]",
            "text/plain": [
              "<Figure size 1080x540 with 1 Axes>"
            ]
          },
          "metadata": {
            "tags": [],
            "needs_background": "light"
          }
        }
      ]
    }
  ]
}